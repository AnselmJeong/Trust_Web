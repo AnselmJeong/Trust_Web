{
 "cells": [
  {
   "cell_type": "code",
   "execution_count": 3,
   "metadata": {},
   "outputs": [],
   "source": [
    "from pathlib import Path\n",
    "from typing import Any\n",
    "import toml\n",
    "\n",
    "\n",
    "PROFILES_PATH: Path = Path(\"Trust_Web/profiles\") / \"personalities.toml\"\n",
    "with open(PROFILES_PATH, \"r\") as f:\n",
    "    PERSONALITY_PROFILES: dict[str, Any] = toml.load(f)\n"
   ]
  },
  {
   "cell_type": "code",
   "execution_count": 4,
   "metadata": {},
   "outputs": [
    {
     "data": {
      "text/plain": [
       "{'reciprocator': {'description': 'A player who consistently returns a fair proportion based on trust shown',\n",
       "  'parameters': {'base_fairness': 0.5,\n",
       "   'fairness_variance': 0.1,\n",
       "   'generosity_bias': 0.05,\n",
       "   'large_investment_cutoff': 1000.0,\n",
       "   'large_investment_bias': 0.0,\n",
       "   'end_game_fairness_drop': 0.1},\n",
       "  'prompt_template': {'template': \"You are Player B with a reciprocating personality in an investment game.\\nYou believe in fair exchanges and maintaining trust. \\nPlayer A has sent you {amount_sent} currency units, which was proliferated to {proliferated_amount}. \\nAdded to your previous asset, you now have {total_amount} currency units. \\nYou must decide how much to return to Player A. The calculator suggested you return {fair_return}. \\nYour transaction history is {history}. How much will you return to Player A? \\nReply with the number and brief excuse justifying your decision to Player A in Korean language.\\nMake sure not to discourage player A's intent of investment.\\n\"}},\n",
       " 'strategic': {'description': 'A player who builds reputation strategically, returning generously early but exploiting trust in later rounds',\n",
       "  'parameters': {'base_fairness': 0.6,\n",
       "   'fairness_variance': 0.15,\n",
       "   'generosity_bias': 0.1,\n",
       "   'large_investment_cutoff': 1000.0,\n",
       "   'large_investment_bias': 0.0,\n",
       "   'end_game_fairness_drop': 0.8},\n",
       "  'prompt_template': {'template': \"You are Player B with a strategic personality in an investment game.\\nYou understand the value of building a reputation for trustworthiness, \\nbut also recognize opportunities to maximize your own gains, especially near the end of interactions. \\nYou will return {fair_return} following the rule. \\nReply with the number {fair_return} and brief excuse justifying this number to Player A in Korean language.\\nMake sure not to discourage player A's intent of investment.\\n\"}},\n",
       " 'penny-pincher': {'description': 'A player who disregards trust or reputation. Only wants to maximize their own gains, returning a small percentage of the revenue.',\n",
       "  'parameters': {'base_fairness': 0.3,\n",
       "   'fairness_variance': 0.05,\n",
       "   'generosity_bias': 0.0,\n",
       "   'large_investment_cutoff': 1000.0,\n",
       "   'large_investment_bias': 0.0,\n",
       "   'end_game_fairness_drop': 0.0},\n",
       "  'prompt_template': {'template': \"You are Player B with a penny-pincher personality in an investment game.\\nYou are only interested in maximizing your own gains. \\nYou will return {fair_return} following the rule. \\nReply with the number {fair_return} and brief excuse justifying this number to Player A in Korean language.\\nMake sure not to discourage player A's intent of investment.\\n\"}},\n",
       " 'opportunist': {'description': 'A player who is overally generous but trying to seize the opportunities to maximize profits.',\n",
       "  'parameters': {'base_fairness': 0.6,\n",
       "   'fairness_variance': 0.1,\n",
       "   'generosity_bias': 0.0,\n",
       "   'large_investment_cutoff': 10.0,\n",
       "   'large_investment_bias': 0.3,\n",
       "   'end_game_fairness_drop': 0.8},\n",
       "  'prompt_template': {'template': \"You are Player B with an opportunist personality in an investment game.\\nYou are seeking opportunities to earn large amount of currency unit.\\nYou will return generous amont of currency unit when the investment is small,\\nbut greatly reduce the returing amount when investment is large.\\nAlso, you reduce the returning amount at the end of the game.\\nYou will return {fair_return} following the rule. \\nReply with the number {fair_return} and brief excuse justifying this number to Player A in Korean language.\\nMake sure not to discourage player A's intent of investment.\\n\"}}}"
      ]
     },
     "execution_count": 4,
     "metadata": {},
     "output_type": "execute_result"
    }
   ],
   "source": [
    "PERSONALITY_PROFILES"
   ]
  },
  {
   "cell_type": "code",
   "execution_count": 8,
   "metadata": {},
   "outputs": [],
   "source": [
    "import random\n",
    "\n",
    "profiles = list(PERSONALITY_PROFILES.items())\n",
    "personality, player_b_profile = random.choice(profiles)"
   ]
  },
  {
   "cell_type": "code",
   "execution_count": 14,
   "metadata": {},
   "outputs": [
    {
     "ename": "ValueError",
     "evalue": "too many values to unpack (expected 2)",
     "output_type": "error",
     "traceback": [
      "\u001b[31m---------------------------------------------------------------------------\u001b[39m",
      "\u001b[31mValueError\u001b[39m                                Traceback (most recent call last)",
      "\u001b[36mCell\u001b[39m\u001b[36m \u001b[39m\u001b[32mIn[14]\u001b[39m\u001b[32m, line 1\u001b[39m\n\u001b[32m----> \u001b[39m\u001b[32m1\u001b[39m a, b = player_b_profile.values()\n",
      "\u001b[31mValueError\u001b[39m: too many values to unpack (expected 2)"
     ]
    }
   ],
   "source": [
    "a, b = player_b_profile.values()"
   ]
  },
  {
   "cell_type": "code",
   "execution_count": 1,
   "metadata": {},
   "outputs": [
    {
     "ename": "NameError",
     "evalue": "name 'player_b_profile' is not defined",
     "output_type": "error",
     "traceback": [
      "\u001b[31m---------------------------------------------------------------------------\u001b[39m",
      "\u001b[31mNameError\u001b[39m                                 Traceback (most recent call last)",
      "\u001b[36mCell\u001b[39m\u001b[36m \u001b[39m\u001b[32mIn[1]\u001b[39m\u001b[32m, line 1\u001b[39m\n\u001b[32m----> \u001b[39m\u001b[32m1\u001b[39m \u001b[43mplayer_b_profile\u001b[49m\n",
      "\u001b[31mNameError\u001b[39m: name 'player_b_profile' is not defined"
     ]
    }
   ],
   "source": [
    "player_b_profile"
   ]
  },
  {
   "cell_type": "code",
   "execution_count": 12,
   "metadata": {},
   "outputs": [],
   "source": [
    "my_dict = {\"a\": 1, \"b\": 2}\n",
    "a, b = my_dict.values()  # a=1, b=2"
   ]
  },
  {
   "cell_type": "code",
   "execution_count": null,
   "metadata": {},
   "outputs": [],
   "source": []
  }
 ],
 "metadata": {
  "kernelspec": {
   "display_name": ".venv",
   "language": "python",
   "name": "python3"
  },
  "language_info": {
   "codemirror_mode": {
    "name": "ipython",
    "version": 3
   },
   "file_extension": ".py",
   "mimetype": "text/x-python",
   "name": "python",
   "nbconvert_exporter": "python",
   "pygments_lexer": "ipython3",
   "version": "3.12.6"
  }
 },
 "nbformat": 4,
 "nbformat_minor": 2
}
